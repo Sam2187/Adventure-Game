{
 "cells": [
  {
   "cell_type": "markdown",
   "metadata": {},
   "source": [
    "## 1. Variables\n",
    "\n",
    "Create a variable called `x` and assign it the value 10. Then use `x` to create three more variables:\n",
    "\n",
    " - `a` which is x plus 1\n",
    " - `b` which is x squared\n",
    " - `c` which is x divided by two.\n",
    "\n",
    "Print the values of `a`, `b`, and `c` once they are assigned."
   ]
  },
  {
   "cell_type": "code",
   "execution_count": 602,
   "metadata": {},
   "outputs": [
    {
     "name": "stdout",
     "output_type": "stream",
     "text": [
      "11 100 5.0\n"
     ]
    }
   ],
   "source": [
    "x = 10  \n",
    "\n",
    "a = x + 1  # Addition operator\n",
    "b = x * x  # Multiplication operator\n",
    "c = x / 2  # Division operator\n",
    "\n",
    "print(a, b, c)\n"
   ]
  },
  {
   "cell_type": "markdown",
   "metadata": {},
   "source": [
    "## 2. Lists\n",
    "\n",
    "Create a list that contains the values 1, 3, 5, 9, 15. Then use indexes and slicing to print the following elements from the list:\n",
    "\n",
    " - The first element\n",
    " - The last (assume you do not know the length of the list)\n",
    " - Every other element in the list, starting at the first\n",
    " - The list elements in reverse order"
   ]
  },
  {
   "cell_type": "code",
   "execution_count": 580,
   "metadata": {},
   "outputs": [
    {
     "name": "stdout",
     "output_type": "stream",
     "text": [
      "1\n",
      "15\n",
      "[1, 5, 15]\n",
      "[15, 9, 5, 3, 1]\n"
     ]
    }
   ],
   "source": [
    "my_list = [1, 3, 5, 9, 15]\n",
    "\n",
    "print(my_list[0])  # Zero based index printing first element\n",
    "print(my_list[-1])  # Last element printing \n",
    "print(my_list[::2])  # Increment by 2\n",
    "print(my_list[::-1])  # Increment by 1 in reverse\n"
   ]
  },
  {
   "cell_type": "markdown",
   "metadata": {},
   "source": [
    "## 3. Dictionaries\n",
    "\n",
    "Create a dictionary to store the following information about a person:\n",
    "\n",
    " - Their name is Jane\n",
    " - Their age is 32\n",
    " - Their alergies are: Dust, Feathers, Strawberries\n",
    " - They have two children, Ben who is 6 and Elly who is 8\n",
    "\n",
    " Then add the fact that they have just had a third child, Jenny, whose age is 0\n",
    " \n",
    " Finally, print the new dictionary"
   ]
  },
  {
   "cell_type": "code",
   "execution_count": 601,
   "metadata": {},
   "outputs": [
    {
     "name": "stdout",
     "output_type": "stream",
     "text": [
      "{'name': 'Jane', 'age': 32, 'alergies': ['Dust', 'Feathers', 'Strawberries'], 'children': [{'name': 'Ben', 'age': 6}, {'name': 'Elly', 'age': 8}]}\n",
      "{'name': 'Jane', 'age': 32, 'alergies': ['Dust', 'Feathers', 'Strawberries'], 'children': [{'name': 'Ben', 'age': 6}, {'name': 'Elly', 'age': 8}, {'name': 'Jenny', 'age': 0}]}\n"
     ]
    }
   ],
   "source": [
    "my_dictionary = {\"name\": \"Jane\",\n",
    "                 \"age\": 32,\n",
    "                 \"alergies\": [\"Dust\", \"Feathers\", \"Strawberries\"],  # Several values assigned to the pair to store multiple allergies\n",
    "                 \"children\": [{\"name\": \"Ben\", \"age\": 6},  # Nested dictionary to store multiple details of multiple children\n",
    "                              {\"name\": \"Elly\", \"age\": 8}]}\n",
    "\n",
    "print(my_dictionary)\n",
    "\n",
    "my_dictionary[\"children\"].append({\"name\": \"Jenny\", \"age\": 0})  # Additional child appended to the nested dictionary\n",
    "        \n",
    "print(my_dictionary)\n"
   ]
  },
  {
   "cell_type": "markdown",
   "metadata": {},
   "source": [
    "## 4. Choosing a Data Type\n",
    "Choose an appropriate data type for each of these scenarios, create and assign the variable and add a comment saying what type it is. Then print each variable and its type to prove that each variable is the type you say it is. Choose from:\n",
    "\n",
    "- `set`\n",
    "- `tuple`\n",
    "- `list`\n",
    "- `dictionary`\n",
    "\n",
    "Choose a type from the list above to create each of the following:\n",
    "\n",
    "1. Store the words \"Cat\" and \"Dog\" so that new elements cannot be added and neither entry can be changed\n",
    "2. Store the unique words found in the sentence: \"I go where I go\"\n",
    "3. Store the words \"Cat\" and \"Dog\" so that new elements can be added and either entry can be changed\n"
   ]
  },
  {
   "cell_type": "code",
   "execution_count": 603,
   "metadata": {},
   "outputs": [
    {
     "name": "stdout",
     "output_type": "stream",
     "text": [
      "('Cat', 'Dog')\n",
      "<class 'tuple'>\n",
      "{'I', 'go', 'where'}\n",
      "<class 'set'>\n",
      "['Cat', 'Dog']\n",
      "<class 'list'>\n"
     ]
    }
   ],
   "source": [
    "my_tuple = (\"Cat\", \"Dog\")  # Immutable tuple meaning new elements canot be added or changed\n",
    "print(my_tuple)\n",
    "print(type(my_tuple))  # Data structure identification\n",
    "\n",
    "\n",
    "my_set = {\"I\", \"go\", \"where\", \"I\", \"go\"}  # Set stores unique values only\n",
    "print(my_set)\n",
    "print(type(my_set))  # Data structure identification\n",
    "\n",
    "\n",
    "my_list = [\"Cat\", \"Dog\"]  # Mutable list meaning elements can be added or changed\n",
    "print(my_list)\n",
    "print(type(my_list))  # Data structure identification\n"
   ]
  },
  {
   "cell_type": "markdown",
   "metadata": {},
   "source": [
    "## 5. Conditionals\n",
    "\n",
    "Create a variable called `mark` and assign it the value 65. Then write a series of `if ... elif ... else` statements to assign a new variable a grade such that marks below 50 produce \"Fail\", from 50 to 59 produce \"Pass\", from 60 to 69 produce \"Merit\" and from 70 and up produce \"Distiction\".\n",
    "\n",
    "Print the grade.\n",
    "\n",
    "Then implement the same logic again, but this time without using `if` statements."
   ]
  },
  {
   "cell_type": "code",
   "execution_count": 1123,
   "metadata": {},
   "outputs": [
    {
     "name": "stdout",
     "output_type": "stream",
     "text": [
      "65 is a Merit\n",
      "65 is a Merit\n"
     ]
    }
   ],
   "source": [
    "mark = 65  # Mark's score\n",
    "\n",
    "if mark < 50:  # Sorting Mark's score into bins using greater than / less than operators\n",
    "    print(f\"{mark} is a Fail\")  # f string to print Marks's score with the corrosponding grade if the condition is met\n",
    "elif mark <= 59:\n",
    "    print(f\"{mark} is a Pass\") # Repeated statement called from top to bottom until condition is met\n",
    "elif mark <= 69:\n",
    "    print(f\"{mark} is a Merit\")\n",
    "else:\n",
    "    print(f\"{mark} is a Distinction\")\n",
    "\n",
    "    \n",
    "    \n",
    "    \n",
    "mark = 65\n",
    "grades = [\"Fail\", \"Pass\", \"Merit\", \"Distinction\"]  # List of all grade options\n",
    "\n",
    "print(f\"{mark} is a {grades[sum((mark >= 50, mark >= 60, mark > 69))]}\")  # Previously outlined list used to match Mark's corrosponding grade\n"
   ]
  },
  {
   "cell_type": "markdown",
   "metadata": {},
   "source": [
    "## 6. Loops\n",
    "\n",
    "Write a loop that asks the user to input an integer between 10 and 60. If they enter something that is not an integer in that range, ask them again, giving an error message to remind them. Once they enter an integer, create a loop that keeps dividing the number by two, taking its integer value, and printing the result until it reaches zero.\n",
    "\n",
    "For example, entering 55 would produce: 55, 27, 13, 6, 3, 1\n",
    "\n",
    "Run the code, first entering a value outside the range 10 - 60 and then with a valid value."
   ]
  },
  {
   "cell_type": "code",
   "execution_count": 614,
   "metadata": {},
   "outputs": [
    {
     "name": "stdout",
     "output_type": "stream",
     "text": [
      "Enter an integer between 10 and 60: 80\n",
      "Incorrect range\n",
      "Enter an integer between 10 and 60: 40\n",
      "20\n",
      "10\n",
      "5\n",
      "2\n",
      "1\n"
     ]
    }
   ],
   "source": [
    "while True:\n",
    "    num = int(input(\"Enter an integer between 10 and 60: \"))  # Requires user to provide input between a certain range\n",
    "    if num < 10 or num > 60:  # Input evaluated to see if it is within the correct range\n",
    "        print(\"Incorrect range\")  # Error message to inform user their input is incorrect \n",
    "        continue\n",
    "    else:\n",
    "        while num > 1:  # Loop runs if the input is greater than one\n",
    "            num //= 2  # Input divided by 2 repeatedly until num is less than one\n",
    "            print(num)  \n",
    "        break  # Loop stops once condition is met\n",
    "        "
   ]
  },
  {
   "cell_type": "markdown",
   "metadata": {},
   "source": [
    "## 7. Comprehension\n",
    "\n",
    "Create a variable to hold the string \"I am good at Python\"\n",
    "\n",
    "Write comprehensions to perform the following tasks and print the result of each:\n",
    "\n",
    "- Convert the string into a Python list of letters and spaces in the same order, so it should produce: `['I', ' ', 'a', 'm', ' ', 'g', 'o', 'o', 'd', ' ', 'a', 't', ' ', 'P', 'y', 't', 'h', 'o', 'n']`\n",
    "- Convert the string into a list of letters without any spaces, producing `['I', 'a', 'm', 'g', 'o', 'o', 'd', 'a', 't', 'P', 'y', 't', 'h', 'o', 'n']`\n",
    "- Produce a list of the lengths of each word in the sentence: `[1, 2, 4, 2, 6]`\n",
    "- Produce a list of the words in the sentence that have lengths that are even numbers: `['am', 'good', 'at', 'Python']`\n",
    "\n",
    "Make sure you did them all with comprehensions, not another method."
   ]
  },
  {
   "cell_type": "code",
   "execution_count": 2,
   "metadata": {},
   "outputs": [
    {
     "name": "stdout",
     "output_type": "stream",
     "text": [
      "['I', ' ', 'a', 'm', ' ', 'g', 'o', 'o', 'd', ' ', 'a', 't', ' ', 'P', 'y', 't', 'h', 'o', 'n']\n",
      "['I', 'a', 'm', 'g', 'o', 'o', 'd', 'a', 't', 'P', 'y', 't', 'h', 'o', 'n']\n",
      "[1, 2, 4, 2, 6]\n",
      "['am', 'good', 'at', 'Python']\n"
     ]
    }
   ],
   "source": [
    "my_sentence = \"I am good at Python\"\n",
    "my_wordlist = [x for x in my_sentence]  # Loop iterates through the provided string storing the output into a character by character list\n",
    "print(my_wordlist)\n",
    "\n",
    "\n",
    "my_sentence = \"I am good at Python\"\n",
    "my_wordlist = [x for x in my_sentence if x != ' ']  # Loop iterates through the provided string storing the output into a character by character list without and spaces\n",
    "print(my_wordlist)\n",
    "\n",
    "\n",
    "word_lengths = [len(x) for x in my_sentence.split()]  # String split and evaluated in terms of individual word length \n",
    "print(word_lengths)\n",
    "\n",
    "\n",
    "my_sentence = \"I am good at Python\"\n",
    "my_wordlist = [x for x in my_sentence.split() if len(x) % 2 == 0] # String split and length of each word evaluted with the modulo operator to print even lengthed words\n",
    "print(my_wordlist)\n"
   ]
  },
  {
   "cell_type": "markdown",
   "metadata": {},
   "source": [
    "## 8. Functions\n",
    "\n",
    "Write a function that takes two positional arguments and returns a tuple containing the two values in ascending order. Assume the values passed are numbers. There is no need to include a check to see if they are valid.\n",
    "\n",
    "Demonstrate the function working by calling it with (3, 4) and (6, 4) and printing the result of each. It should produce:\n",
    "\n",
    "(3, 4) <br>\n",
    "(4, 6)\n",
    "\n",
    "Make sure the function has a docstring that describes its use and show that it works by calling `help()`"
   ]
  },
  {
   "cell_type": "code",
   "execution_count": 7,
   "metadata": {},
   "outputs": [
    {
     "name": "stdout",
     "output_type": "stream",
     "text": [
      "(3, 4)\n",
      "(4, 6)\n"
     ]
    }
   ],
   "source": [
    "def num_order(num1, num2):  # Requires two values to be passed in\n",
    "    \"\"\"Returns two inputted integers into a tuple, in ascending order\"\"\"\n",
    "    if num1 == num2:  # Function doesnt return anything if the two integers are the same\n",
    "        return None \n",
    "    return (num2, num1) if num1 > num2 else (num1, num2)  # The greater integer to be displayed second in the return statment\n",
    "\n",
    "print(num_order(3, 4))\n",
    "print(num_order(6, 4))\n"
   ]
  },
  {
   "cell_type": "code",
   "execution_count": 8,
   "metadata": {},
   "outputs": [
    {
     "name": "stdout",
     "output_type": "stream",
     "text": [
      "Help on function num_order in module __main__:\n",
      "\n",
      "num_order(num1, num2)\n",
      "    Return two inputted integers into a tuple, in ascending order\n",
      "\n"
     ]
    }
   ],
   "source": [
    "help(num_order)"
   ]
  },
  {
   "cell_type": "markdown",
   "metadata": {},
   "source": [
    "## 9. With Keyword Arguments\n",
    "\n",
    "Now write a function called `series` that allows you to specify a series of integers to be returned in a list. The function should accept keyword arguments as follows:\n",
    "\n",
    "- `start` Which specifies the start of the series. This is optional. If it is not given, the series should start at zero\n",
    "- `end` Which specifies the largest value in the series. This is a mandatory argument.\n",
    "- `step` Which specifies the size of the steps from one number to the next\n",
    "\n",
    "Call your function so it produces the following outputs:\n",
    "\n",
    "- `[0, 1, 2, 3, 4, 5, 6, 7, 8, 9, 10]`\n",
    "- `[5, 6, 7, 8, 9, 10]`\n",
    "- `[0, 2, 4, 6, 8, 10]`\n",
    "- `[5, 7, 9]`\n",
    "\n",
    "Only pass the arguments that are needed each time."
   ]
  },
  {
   "cell_type": "code",
   "execution_count": 1124,
   "metadata": {},
   "outputs": [
    {
     "name": "stdout",
     "output_type": "stream",
     "text": [
      "[0, 1, 2, 3, 4, 5, 6, 7, 8, 9, 10]\n",
      "[5, 6, 7, 8, 9, 10]\n",
      "[0, 2, 4, 6, 8, 10]\n",
      "[5, 7, 9]\n"
     ]
    }
   ],
   "source": [
    "def series(start, end, step):  # Requires three values to be passed in\n",
    "    \"\"\"Returns a series of integers into a list based on input of a start, end and incremental factor\"\"\"\n",
    "    return [x for x in range(start, end, step)]  # Iterates over each integer based on the passed in values\n",
    "        \n",
    "\n",
    "print(series(start = 0, end = 11, step = 1))\n",
    "print(series(start = 5, end = 11, step = 1))\n",
    "print(series(start = 0, end = 11, step = 2))\n",
    "print(series(start = 5, end = 10, step = 2))\n"
   ]
  },
  {
   "cell_type": "markdown",
   "metadata": {},
   "source": [
    "## 10. Generators\n",
    "\n",
    "Write a generator that accepts a string as an input and yields each character in the string, one at a time. Initialise the generator and use it to extract the first three characters of the string \"This is my generator\". Print those three characters next to each other. Then use two more lines of code to print the rest of the characters, each on its own line."
   ]
  },
  {
   "cell_type": "code",
   "execution_count": 1127,
   "metadata": {},
   "outputs": [
    {
     "name": "stdout",
     "output_type": "stream",
     "text": [
      "Thi\n",
      "s is my generator"
     ]
    }
   ],
   "source": [
    "def gen(data):\n",
    "    \"\"\"Returns character one at a time from an input string\"\"\"\n",
    "    for x in data:\n",
    "        yield x  # Returns a generator object that can be used as an iterator for memory efficiency \n",
    "g = gen(\"This is my generator\")  # Initialise, input of any string\n",
    "\n",
    "\n",
    "for x in range(3):  # Extraction of the first three characters \n",
    "    print(next(g), end='')  # Next used to call the generator until condition is met\n",
    "print()\n",
    "for x in g:  # Remaining characters returned \n",
    "    print(x, end=\"\") \n"
   ]
  },
  {
   "cell_type": "markdown",
   "metadata": {},
   "source": [
    "## 11. Now something a little more challenging\n",
    "\n",
    "If you cube each integer in turn from 10 to one million, you will see that 11 of them produce a result that is a palindrome (the same forwards as backwards). For example, $11 \\times 11 \\times 11 = 1331$.\n",
    "\n",
    "Write a single line of code to produce those 11 numbers and their cubes in a list of tuples.\n",
    "\n",
    "If you do it in more than one line of code, you will get reduced marks. Add a comment to explain what the code does.\n",
    "\n",
    "Shame about 2201, isn't it?!"
   ]
  },
  {
   "cell_type": "code",
   "execution_count": 1206,
   "metadata": {},
   "outputs": [
    {
     "name": "stdout",
     "output_type": "stream",
     "text": [
      "1331\n",
      "1030301\n",
      "1367631\n",
      "1003003001\n",
      "10662526601\n",
      "1000300030001\n",
      "1030607060301\n",
      "1334996994331\n",
      "1000030000300001\n",
      "1033394994933301\n",
      "1331399339931331\n"
     ]
    }
   ],
   "source": [
    "def palindrome(limit):\n",
    "    \"\"\"Returns all the palindromes of integers cubed in the range of 10 to one million\"\"\"\n",
    "    count = 10  # Lowest integer in the range set\n",
    "    while count < limit:\n",
    "        pal = count * count * count  # Cube the number using the multiplication operator twice\n",
    "        pal = str(pal)  # Convert the number into a string\n",
    "        rbase = pal[::-1]  # Make a reverse of the string as we need to evaluate backwards\n",
    "        if pal == rbase:\n",
    "            print(pal)  # Print if values match\n",
    "        count += 1\n",
    "\n",
    "palindrome(1000000)  # Function called with maximum range set\n"
   ]
  },
  {
   "cell_type": "markdown",
   "metadata": {},
   "source": [
    "## 12. Finally, some JSON and Recursion\n",
    "\n",
    "George runs a company. He manages James and Jamila, who each have a small team to manage. In James' team are Jill and Jenny. In Jamila's team are Jewel, Jasmine and Jeremy.\n",
    "\n",
    "Create a JSON object in a string variable called `company` where each item has a `name` field and a field called `manages` which contains an array of the people managed by that person. If a person does not manage anybody, they have no field called manages.\n",
    "\n",
    "Then convert the JSON string to a dictionary in a variable called `company_dict`.\n",
    "\n",
    "Finally, write a recursive function that accepts the dictionary as an argument and lists each person and their level in the organisation, so that George is at level 1, James and Jamila are at 2, and so on. Call the function and print the result. It should look like this:\n",
    "\n",
    "`George is at level 1\n",
    "James is at level 2\n",
    "Jill is at level 3\n",
    "Jenny is at level 3\n",
    "Jamila is at level 2\n",
    "Jewel is at level 3\n",
    "Jasmine is at level 3\n",
    "Jeremey is at level 3`\n",
    "\n",
    "The function can either return a string, which you print after it has been called, or it can print its results as it runs and return nothing."
   ]
  },
  {
   "cell_type": "code",
   "execution_count": 1212,
   "metadata": {},
   "outputs": [
    {
     "name": "stdout",
     "output_type": "stream",
     "text": [
      "{'name': 'George', 'manages': [{'name': 'James', 'manages': [{'name': 'Jill'}, {'name': 'Jenny'}]}, {'name': 'Jamila', 'manages': [{'name': 'Jewel'}, {'name': 'Jasmine'}, {'name': 'Jeremy'}]}]}\n",
      "George is at level 1\n",
      "James is at level 2\n",
      "Jill is at level 3\n",
      "Jenny is at level 3\n",
      "Jamila is at level 2\n",
      "Jewel is at level 3\n",
      "Jasmine is at level 3\n",
      "Jeremy is at level 3\n"
     ]
    }
   ],
   "source": [
    "import json  # Json package installed so we can run it\n",
    "\n",
    "company = '''{\"name\": \"George\",\n",
    "              \"manages\": [{\"name\": \"James\",\n",
    "                           \"manages\": [{\"name\": \"Jill\"},\n",
    "                                       {\"name\": \"Jenny\"}]},\n",
    "                          {\"name\": \"Jamila\",\n",
    "                           \"manages\": [{\"name\": \"Jewel\"},\n",
    "                                       {\"name\": \"Jasmine\"},\n",
    "                                       {\"name\": \"Jeremy\"}]}]}'''\n",
    "\n",
    "company_dct = json.loads(company)  # Json tree assigned to company_dct in a Python dictionary format so we can perform functions on it\n",
    "print(company_dct)\n",
    "\n",
    "\n",
    "def levels(node, level = 1):\n",
    "    \"\"\"Returns each person and their associated level in the organisation after passing in a dictionary\"\"\"\n",
    "    yield (node[\"name\"], level)  # Yield the names of the individuals in the dictionary and their order within \n",
    "    try:\n",
    "        for m in node[\"manages\"]:  # Yield the manages of the individuals in the dictionary and their order within \n",
    "            yield from levels(m, level + 1)  # +1 to move into the next sub section of the dictionary\n",
    "    except KeyError:\n",
    "        return\n",
    "\n",
    "\n",
    "\n",
    "for (name, level) in levels(company_dct):  # Calling the function to iternate through the dictionary\n",
    "    print(f\"{name} is at level {level}\")  # f string to print name and level in a presentable format\n",
    "    "
   ]
  }
 ],
 "metadata": {
  "kernelspec": {
   "display_name": "Python 3 (ipykernel)",
   "language": "python",
   "name": "python3"
  },
  "language_info": {
   "codemirror_mode": {
    "name": "ipython",
    "version": 3
   },
   "file_extension": ".py",
   "mimetype": "text/x-python",
   "name": "python",
   "nbconvert_exporter": "python",
   "pygments_lexer": "ipython3",
   "version": "3.9.13"
  }
 },
 "nbformat": 4,
 "nbformat_minor": 2
}
